{
  "nbformat": 4,
  "nbformat_minor": 0,
  "metadata": {
    "colab": {
      "provenance": [],
      "gpuType": "T4"
    },
    "kernelspec": {
      "name": "python3",
      "display_name": "Python 3"
    },
    "language_info": {
      "name": "python"
    },
    "accelerator": "GPU"
  },
  "cells": [
    {
      "cell_type": "code",
      "execution_count": 1,
      "metadata": {
        "colab": {
          "base_uri": "https://localhost:8080/"
        },
        "id": "sfgEO4YjU8tU",
        "outputId": "9ff91cff-3334-4d49-df16-deb0238aa2f6"
      },
      "outputs": [
        {
          "output_type": "stream",
          "name": "stdout",
          "text": [
            "Drive already mounted at /content/drive; to attempt to forcibly remount, call drive.mount(\"/content/drive\", force_remount=True).\n"
          ]
        }
      ],
      "source": [
        "from google.colab import drive\n",
        "drive.mount('/content/drive')\n",
        "DATA_PATH = '/content/drive/MyDrive/IMDB Dataset.csv'"
      ]
    },
    {
      "cell_type": "code",
      "source": [
        "import re\n",
        "import pandas as pd\n",
        "import numpy as np\n",
        "from collections import Counter\n",
        "import torch\n",
        "import torch.nn as nn\n",
        "import torch.optim as optim\n",
        "from torch.utils.data import Dataset, DataLoader\n",
        "from torch.nn.utils.rnn import pad_sequence\n",
        "from sklearn.model_selection import train_test_split\n",
        "from sklearn.metrics import classification_report, confusion_matrix\n",
        "from nltk.stem.porter import PorterStemmer"
      ],
      "metadata": {
        "id": "S37Xl7grZbvc"
      },
      "execution_count": 2,
      "outputs": []
    },
    {
      "cell_type": "code",
      "source": [
        "device = torch.device('cuda' if torch.cuda.is_available() else 'cpu')\n",
        "print(f\"Using device: {device}\")"
      ],
      "metadata": {
        "colab": {
          "base_uri": "https://localhost:8080/"
        },
        "id": "BCb7eA2mZdTy",
        "outputId": "d7834d4a-209b-42a5-cb94-dae3c11ae683"
      },
      "execution_count": 3,
      "outputs": [
        {
          "output_type": "stream",
          "name": "stdout",
          "text": [
            "Using device: cuda\n"
          ]
        }
      ]
    },
    {
      "cell_type": "markdown",
      "source": [
        "#**Text Preprocessing**"
      ],
      "metadata": {
        "id": "KhgPEwwCeeBf"
      }
    },
    {
      "cell_type": "code",
      "source": [
        "stemmer = PorterStemmer()\n",
        "\n",
        "def preprocess_text(text):\n",
        "    text = re.sub(r'<.*?>', '', text)            # strip HTML\n",
        "    text = re.sub(r'[^a-zA-Z ]', '', text)       # keep letters & spaces\n",
        "    tokens = text.lower().split()\n",
        "    return [stemmer.stem(tok) for tok in tokens]"
      ],
      "metadata": {
        "id": "vpdwFUxgZfGY"
      },
      "execution_count": 4,
      "outputs": []
    },
    {
      "cell_type": "code",
      "source": [
        "print(\"Loading and preprocessing data...\")\n",
        "df = pd.read_csv(DATA_PATH)\n",
        "df['tokens'] = df['review'].apply(preprocess_text)\n",
        "label_map = {'negative': 0, 'positive': 1}\n",
        "df['label'] = df['sentiment'].map(label_map)"
      ],
      "metadata": {
        "colab": {
          "base_uri": "https://localhost:8080/"
        },
        "id": "uChbfR2GZgkO",
        "outputId": "0b0df183-d1c6-4b8e-cd15-6ca2682511ee"
      },
      "execution_count": 5,
      "outputs": [
        {
          "output_type": "stream",
          "name": "stdout",
          "text": [
            "Loading and preprocessing data...\n"
          ]
        }
      ]
    },
    {
      "cell_type": "markdown",
      "source": [
        "#**Train/Val/Test split**"
      ],
      "metadata": {
        "id": "4HrrlwnafSl7"
      }
    },
    {
      "cell_type": "code",
      "source": [
        "df_train, df_temp = train_test_split(df, test_size=0.2, stratify=df['label'], random_state=42)\n",
        "df_val, df_test   = train_test_split(df_temp, test_size=0.5, stratify=df_temp['label'], random_state=42)"
      ],
      "metadata": {
        "id": "tM1U0soRZiqB"
      },
      "execution_count": 6,
      "outputs": []
    },
    {
      "cell_type": "markdown",
      "source": [
        "#**Building vocabulary**"
      ],
      "metadata": {
        "id": "j945q5A2fans"
      }
    },
    {
      "cell_type": "code",
      "source": [
        "MIN_FREQ = 2\n",
        "MAX_VOCAB_SIZE = 5000\n",
        "counter = Counter(tok for tokens in df_train['tokens'] for tok in tokens)\n",
        "common = [tok for tok, cnt in counter.items() if cnt >= MIN_FREQ]\n",
        "common = sorted(common, key=lambda x: counter[x], reverse=True)[:MAX_VOCAB_SIZE]\n",
        "itos = ['<PAD>', '<UNK>'] + common\n",
        "stoi = {tok: idx for idx, tok in enumerate(itos)}\n",
        "VOCAB_SIZE = len(itos)\n",
        "print(f\"Vocab size: {VOCAB_SIZE}\")"
      ],
      "metadata": {
        "colab": {
          "base_uri": "https://localhost:8080/"
        },
        "id": "TmgdBqt4ZkP5",
        "outputId": "8528dfb5-bdf3-4984-d88b-0eada399a49f"
      },
      "execution_count": 7,
      "outputs": [
        {
          "output_type": "stream",
          "name": "stdout",
          "text": [
            "Vocab size: 5002\n"
          ]
        }
      ]
    },
    {
      "cell_type": "code",
      "source": [
        "def encode(tokens):\n",
        "    return [stoi.get(tok, stoi['<UNK>']) for tok in tokens]\n",
        "\n",
        "class IMDBDataset(Dataset):\n",
        "    def __init__(self, df):\n",
        "        self.texts = [torch.tensor(encode(toks), dtype=torch.long) for toks in df['tokens']]\n",
        "        self.labels = torch.tensor(df['label'].values, dtype=torch.long)\n",
        "    def __len__(self):\n",
        "        return len(self.labels)\n",
        "    def __getitem__(self, idx):\n",
        "        return self.texts[idx], self.labels[idx]\n",
        "\n",
        "def collate_fn(batch):\n",
        "    texts, labels = zip(*batch)\n",
        "    lengths = torch.tensor([t.size(0) for t in texts])\n",
        "    padded = pad_sequence(texts, batch_first=True, padding_value=stoi['<PAD>'])\n",
        "    return padded, lengths, torch.stack(labels)"
      ],
      "metadata": {
        "id": "OAqAawXZZmAY"
      },
      "execution_count": 8,
      "outputs": []
    },
    {
      "cell_type": "code",
      "source": [
        "batch_size = 64\n",
        "num_workers = 4\n",
        "pin_memory = True if device.type=='cuda' else False\n",
        "\n",
        "train_ds = IMDBDataset(df_train)\n",
        "val_ds   = IMDBDataset(df_val)\n",
        "test_ds  = IMDBDataset(df_test)\n",
        "\n",
        "train_loader = DataLoader(\n",
        "    train_ds,\n",
        "    batch_size=batch_size,\n",
        "    shuffle=True,\n",
        "    collate_fn=collate_fn,\n",
        "    num_workers=num_workers,\n",
        "    pin_memory=pin_memory\n",
        ")\n",
        "val_loader = DataLoader(\n",
        "    val_ds,\n",
        "    batch_size=batch_size,\n",
        "    shuffle=False,\n",
        "    collate_fn=collate_fn,\n",
        "    num_workers=num_workers,\n",
        "    pin_memory=pin_memory\n",
        ")\n",
        "test_loader = DataLoader(\n",
        "    test_ds,\n",
        "    batch_size=batch_size,\n",
        "    shuffle=False,\n",
        "    collate_fn=collate_fn,\n",
        "    num_workers=num_workers,\n",
        "    pin_memory=pin_memory\n",
        ")"
      ],
      "metadata": {
        "colab": {
          "base_uri": "https://localhost:8080/"
        },
        "id": "E4QLZQtEZne7",
        "outputId": "93bca248-f8fc-41e2-96c3-ef9a6f9b1df0"
      },
      "execution_count": 9,
      "outputs": [
        {
          "output_type": "stream",
          "name": "stderr",
          "text": [
            "/usr/local/lib/python3.11/dist-packages/torch/utils/data/dataloader.py:624: UserWarning: This DataLoader will create 4 worker processes in total. Our suggested max number of worker in current system is 2, which is smaller than what this DataLoader is going to create. Please be aware that excessive worker creation might get DataLoader running slow or even freeze, lower the worker number to avoid potential slowness/freeze if necessary.\n",
            "  warnings.warn(\n"
          ]
        }
      ]
    },
    {
      "cell_type": "markdown",
      "source": [
        "#**RNN Model (LSTM/GRU)**"
      ],
      "metadata": {
        "id": "rPkQ3nDifkOl"
      }
    },
    {
      "cell_type": "code",
      "source": [
        "class RNNClassifier(nn.Module):\n",
        "    def __init__(self, vocab_size, embed_dim, hidden_dim, output_dim,\n",
        "                 n_layers=1, rnn_type='LSTM', dropout=0.5):\n",
        "        super().__init__()\n",
        "        self.embedding = nn.Embedding(vocab_size, embed_dim, padding_idx=stoi['<PAD>'])\n",
        "        if rnn_type=='LSTM':\n",
        "            self.rnn = nn.LSTM(\n",
        "                embed_dim, hidden_dim,\n",
        "                num_layers=n_layers,\n",
        "                batch_first=True,\n",
        "                dropout=dropout if n_layers>1 else 0\n",
        "            )\n",
        "        else:\n",
        "            self.rnn = nn.GRU(\n",
        "                embed_dim, hidden_dim,\n",
        "                num_layers=n_layers,\n",
        "                batch_first=True,\n",
        "                dropout=dropout if n_layers>1 else 0\n",
        "            )\n",
        "        self.dropout = nn.Dropout(dropout)\n",
        "        self.fc = nn.Linear(hidden_dim, output_dim)\n",
        "\n",
        "    def forward(self, text, lengths):\n",
        "        embedded = self.embedding(text)\n",
        "        packed = nn.utils.rnn.pack_padded_sequence(\n",
        "            embedded,\n",
        "            lengths.cpu(),\n",
        "            batch_first=True,\n",
        "            enforce_sorted=False\n",
        "        )\n",
        "        packed_out, hidden = self.rnn(packed)\n",
        "        if isinstance(hidden, tuple):\n",
        "            hidden = hidden[0]\n",
        "        out = self.dropout(hidden[-1])\n",
        "        return self.fc(out)"
      ],
      "metadata": {
        "id": "mHiAF4lcZphm"
      },
      "execution_count": 10,
      "outputs": []
    },
    {
      "cell_type": "code",
      "source": [
        "def train_epoch(model, loader, optimizer, criterion):\n",
        "    model.train()\n",
        "    total_loss = 0\n",
        "    for texts, lengths, labels in loader:\n",
        "        texts, lengths, labels = texts.to(device), lengths.to(device), labels.to(device)\n",
        "        optimizer.zero_grad()\n",
        "        preds = model(texts, lengths)\n",
        "        loss = criterion(preds, labels)\n",
        "        loss.backward()\n",
        "        optimizer.step()\n",
        "        total_loss += loss.item()\n",
        "    return total_loss / len(loader)\n",
        "\n",
        "\n",
        "def eval_model(model, loader, criterion):\n",
        "    model.eval()\n",
        "    total_loss = 0\n",
        "    all_preds, all_labels = [], []\n",
        "    with torch.no_grad():\n",
        "        for texts, lengths, labels in loader:\n",
        "            texts, lengths = texts.to(device), lengths.to(device)\n",
        "            logits = model(texts, lengths)\n",
        "            loss = criterion(logits, labels.to(device))\n",
        "            total_loss += loss.item()\n",
        "            all_preds.extend(torch.argmax(logits, dim=1).cpu().numpy())\n",
        "            all_labels.extend(labels.numpy())\n",
        "    report = classification_report(all_labels, all_preds, target_names=['neg','pos'])\n",
        "    cm = confusion_matrix(all_labels, all_preds)\n",
        "    return total_loss/len(loader), report, cm"
      ],
      "metadata": {
        "id": "s7RZib8HZrdS"
      },
      "execution_count": 11,
      "outputs": []
    },
    {
      "cell_type": "code",
      "source": [
        "# Best Hyperparameters\n",
        "embed_dims = [50, 100]\n",
        "hidden_dims = [128, 256]\n",
        "dropouts = [0.3, 0.5]\n",
        "rnn_types = ['LSTM', 'GRU']\n",
        "best_loss, best_params = float('inf'), None\n",
        "\n",
        "for rnn_type in rnn_types:\n",
        "    for e in embed_dims:\n",
        "        for h in hidden_dims:\n",
        "            for d in dropouts:\n",
        "                print(f\"Testing {rnn_type}, emb={e}, hid={h}, drop={d}\")\n",
        "                model = RNNClassifier(VOCAB_SIZE, e, h, 2, n_layers=1,\n",
        "                                      rnn_type=rnn_type, dropout=d).to(device)\n",
        "                opt = optim.Adam(model.parameters(), lr=1e-3)\n",
        "                crit = nn.CrossEntropyLoss()\n",
        "                for _ in range(2):\n",
        "                    train_epoch(model, train_loader, opt, crit)\n",
        "                loss, report, _ = eval_model(model, val_loader, crit)\n",
        "                print(report)\n",
        "                if loss < best_loss:\n",
        "                    best_loss, best_params = loss, (rnn_type, e, h, d)\n",
        "print(\"Best params:\", best_params)"
      ],
      "metadata": {
        "colab": {
          "base_uri": "https://localhost:8080/"
        },
        "id": "VWRZ__ThZsyU",
        "outputId": "64827bc7-4207-4cb3-e02e-365fc54eb355"
      },
      "execution_count": 12,
      "outputs": [
        {
          "output_type": "stream",
          "name": "stdout",
          "text": [
            "Testing LSTM, emb=50, hid=128, drop=0.3\n"
          ]
        },
        {
          "output_type": "stream",
          "name": "stderr",
          "text": [
            "/usr/local/lib/python3.11/dist-packages/torch/utils/data/dataloader.py:624: UserWarning: This DataLoader will create 4 worker processes in total. Our suggested max number of worker in current system is 2, which is smaller than what this DataLoader is going to create. Please be aware that excessive worker creation might get DataLoader running slow or even freeze, lower the worker number to avoid potential slowness/freeze if necessary.\n",
            "  warnings.warn(\n"
          ]
        },
        {
          "output_type": "stream",
          "name": "stdout",
          "text": [
            "              precision    recall  f1-score   support\n",
            "\n",
            "         neg       0.89      0.70      0.78      2500\n",
            "         pos       0.75      0.91      0.82      2500\n",
            "\n",
            "    accuracy                           0.81      5000\n",
            "   macro avg       0.82      0.81      0.80      5000\n",
            "weighted avg       0.82      0.81      0.80      5000\n",
            "\n",
            "Testing LSTM, emb=50, hid=128, drop=0.5\n"
          ]
        },
        {
          "output_type": "stream",
          "name": "stderr",
          "text": [
            "/usr/local/lib/python3.11/dist-packages/torch/utils/data/dataloader.py:624: UserWarning: This DataLoader will create 4 worker processes in total. Our suggested max number of worker in current system is 2, which is smaller than what this DataLoader is going to create. Please be aware that excessive worker creation might get DataLoader running slow or even freeze, lower the worker number to avoid potential slowness/freeze if necessary.\n",
            "  warnings.warn(\n"
          ]
        },
        {
          "output_type": "stream",
          "name": "stdout",
          "text": [
            "              precision    recall  f1-score   support\n",
            "\n",
            "         neg       0.77      0.87      0.82      2500\n",
            "         pos       0.86      0.75      0.80      2500\n",
            "\n",
            "    accuracy                           0.81      5000\n",
            "   macro avg       0.81      0.81      0.81      5000\n",
            "weighted avg       0.81      0.81      0.81      5000\n",
            "\n",
            "Testing LSTM, emb=50, hid=256, drop=0.3\n"
          ]
        },
        {
          "output_type": "stream",
          "name": "stderr",
          "text": [
            "/usr/local/lib/python3.11/dist-packages/torch/utils/data/dataloader.py:624: UserWarning: This DataLoader will create 4 worker processes in total. Our suggested max number of worker in current system is 2, which is smaller than what this DataLoader is going to create. Please be aware that excessive worker creation might get DataLoader running slow or even freeze, lower the worker number to avoid potential slowness/freeze if necessary.\n",
            "  warnings.warn(\n"
          ]
        },
        {
          "output_type": "stream",
          "name": "stdout",
          "text": [
            "              precision    recall  f1-score   support\n",
            "\n",
            "         neg       0.80      0.84      0.82      2500\n",
            "         pos       0.83      0.79      0.81      2500\n",
            "\n",
            "    accuracy                           0.82      5000\n",
            "   macro avg       0.82      0.82      0.82      5000\n",
            "weighted avg       0.82      0.82      0.82      5000\n",
            "\n",
            "Testing LSTM, emb=50, hid=256, drop=0.5\n"
          ]
        },
        {
          "output_type": "stream",
          "name": "stderr",
          "text": [
            "/usr/local/lib/python3.11/dist-packages/torch/utils/data/dataloader.py:624: UserWarning: This DataLoader will create 4 worker processes in total. Our suggested max number of worker in current system is 2, which is smaller than what this DataLoader is going to create. Please be aware that excessive worker creation might get DataLoader running slow or even freeze, lower the worker number to avoid potential slowness/freeze if necessary.\n",
            "  warnings.warn(\n"
          ]
        },
        {
          "output_type": "stream",
          "name": "stdout",
          "text": [
            "              precision    recall  f1-score   support\n",
            "\n",
            "         neg       0.78      0.84      0.81      2500\n",
            "         pos       0.83      0.77      0.80      2500\n",
            "\n",
            "    accuracy                           0.80      5000\n",
            "   macro avg       0.81      0.80      0.80      5000\n",
            "weighted avg       0.81      0.80      0.80      5000\n",
            "\n",
            "Testing LSTM, emb=100, hid=128, drop=0.3\n"
          ]
        },
        {
          "output_type": "stream",
          "name": "stderr",
          "text": [
            "/usr/local/lib/python3.11/dist-packages/torch/utils/data/dataloader.py:624: UserWarning: This DataLoader will create 4 worker processes in total. Our suggested max number of worker in current system is 2, which is smaller than what this DataLoader is going to create. Please be aware that excessive worker creation might get DataLoader running slow or even freeze, lower the worker number to avoid potential slowness/freeze if necessary.\n",
            "  warnings.warn(\n"
          ]
        },
        {
          "output_type": "stream",
          "name": "stdout",
          "text": [
            "              precision    recall  f1-score   support\n",
            "\n",
            "         neg       0.85      0.88      0.86      2500\n",
            "         pos       0.87      0.84      0.86      2500\n",
            "\n",
            "    accuracy                           0.86      5000\n",
            "   macro avg       0.86      0.86      0.86      5000\n",
            "weighted avg       0.86      0.86      0.86      5000\n",
            "\n",
            "Testing LSTM, emb=100, hid=128, drop=0.5\n"
          ]
        },
        {
          "output_type": "stream",
          "name": "stderr",
          "text": [
            "/usr/local/lib/python3.11/dist-packages/torch/utils/data/dataloader.py:624: UserWarning: This DataLoader will create 4 worker processes in total. Our suggested max number of worker in current system is 2, which is smaller than what this DataLoader is going to create. Please be aware that excessive worker creation might get DataLoader running slow or even freeze, lower the worker number to avoid potential slowness/freeze if necessary.\n",
            "  warnings.warn(\n"
          ]
        },
        {
          "output_type": "stream",
          "name": "stdout",
          "text": [
            "              precision    recall  f1-score   support\n",
            "\n",
            "         neg       0.85      0.82      0.83      2500\n",
            "         pos       0.82      0.86      0.84      2500\n",
            "\n",
            "    accuracy                           0.84      5000\n",
            "   macro avg       0.84      0.84      0.84      5000\n",
            "weighted avg       0.84      0.84      0.84      5000\n",
            "\n",
            "Testing LSTM, emb=100, hid=256, drop=0.3\n"
          ]
        },
        {
          "output_type": "stream",
          "name": "stderr",
          "text": [
            "/usr/local/lib/python3.11/dist-packages/torch/utils/data/dataloader.py:624: UserWarning: This DataLoader will create 4 worker processes in total. Our suggested max number of worker in current system is 2, which is smaller than what this DataLoader is going to create. Please be aware that excessive worker creation might get DataLoader running slow or even freeze, lower the worker number to avoid potential slowness/freeze if necessary.\n",
            "  warnings.warn(\n"
          ]
        },
        {
          "output_type": "stream",
          "name": "stdout",
          "text": [
            "              precision    recall  f1-score   support\n",
            "\n",
            "         neg       0.76      0.93      0.84      2500\n",
            "         pos       0.91      0.71      0.80      2500\n",
            "\n",
            "    accuracy                           0.82      5000\n",
            "   macro avg       0.84      0.82      0.82      5000\n",
            "weighted avg       0.84      0.82      0.82      5000\n",
            "\n",
            "Testing LSTM, emb=100, hid=256, drop=0.5\n"
          ]
        },
        {
          "output_type": "stream",
          "name": "stderr",
          "text": [
            "/usr/local/lib/python3.11/dist-packages/torch/utils/data/dataloader.py:624: UserWarning: This DataLoader will create 4 worker processes in total. Our suggested max number of worker in current system is 2, which is smaller than what this DataLoader is going to create. Please be aware that excessive worker creation might get DataLoader running slow or even freeze, lower the worker number to avoid potential slowness/freeze if necessary.\n",
            "  warnings.warn(\n"
          ]
        },
        {
          "output_type": "stream",
          "name": "stdout",
          "text": [
            "              precision    recall  f1-score   support\n",
            "\n",
            "         neg       0.90      0.82      0.86      2500\n",
            "         pos       0.84      0.91      0.87      2500\n",
            "\n",
            "    accuracy                           0.87      5000\n",
            "   macro avg       0.87      0.87      0.87      5000\n",
            "weighted avg       0.87      0.87      0.87      5000\n",
            "\n",
            "Testing GRU, emb=50, hid=128, drop=0.3\n"
          ]
        },
        {
          "output_type": "stream",
          "name": "stderr",
          "text": [
            "/usr/local/lib/python3.11/dist-packages/torch/utils/data/dataloader.py:624: UserWarning: This DataLoader will create 4 worker processes in total. Our suggested max number of worker in current system is 2, which is smaller than what this DataLoader is going to create. Please be aware that excessive worker creation might get DataLoader running slow or even freeze, lower the worker number to avoid potential slowness/freeze if necessary.\n",
            "  warnings.warn(\n"
          ]
        },
        {
          "output_type": "stream",
          "name": "stdout",
          "text": [
            "              precision    recall  f1-score   support\n",
            "\n",
            "         neg       0.92      0.82      0.87      2500\n",
            "         pos       0.84      0.93      0.88      2500\n",
            "\n",
            "    accuracy                           0.87      5000\n",
            "   macro avg       0.88      0.87      0.87      5000\n",
            "weighted avg       0.88      0.87      0.87      5000\n",
            "\n",
            "Testing GRU, emb=50, hid=128, drop=0.5\n"
          ]
        },
        {
          "output_type": "stream",
          "name": "stderr",
          "text": [
            "/usr/local/lib/python3.11/dist-packages/torch/utils/data/dataloader.py:624: UserWarning: This DataLoader will create 4 worker processes in total. Our suggested max number of worker in current system is 2, which is smaller than what this DataLoader is going to create. Please be aware that excessive worker creation might get DataLoader running slow or even freeze, lower the worker number to avoid potential slowness/freeze if necessary.\n",
            "  warnings.warn(\n"
          ]
        },
        {
          "output_type": "stream",
          "name": "stdout",
          "text": [
            "              precision    recall  f1-score   support\n",
            "\n",
            "         neg       0.89      0.86      0.87      2500\n",
            "         pos       0.86      0.89      0.88      2500\n",
            "\n",
            "    accuracy                           0.87      5000\n",
            "   macro avg       0.87      0.87      0.87      5000\n",
            "weighted avg       0.87      0.87      0.87      5000\n",
            "\n",
            "Testing GRU, emb=50, hid=256, drop=0.3\n"
          ]
        },
        {
          "output_type": "stream",
          "name": "stderr",
          "text": [
            "/usr/local/lib/python3.11/dist-packages/torch/utils/data/dataloader.py:624: UserWarning: This DataLoader will create 4 worker processes in total. Our suggested max number of worker in current system is 2, which is smaller than what this DataLoader is going to create. Please be aware that excessive worker creation might get DataLoader running slow or even freeze, lower the worker number to avoid potential slowness/freeze if necessary.\n",
            "  warnings.warn(\n"
          ]
        },
        {
          "output_type": "stream",
          "name": "stdout",
          "text": [
            "              precision    recall  f1-score   support\n",
            "\n",
            "         neg       0.89      0.84      0.87      2500\n",
            "         pos       0.85      0.90      0.87      2500\n",
            "\n",
            "    accuracy                           0.87      5000\n",
            "   macro avg       0.87      0.87      0.87      5000\n",
            "weighted avg       0.87      0.87      0.87      5000\n",
            "\n",
            "Testing GRU, emb=50, hid=256, drop=0.5\n"
          ]
        },
        {
          "output_type": "stream",
          "name": "stderr",
          "text": [
            "/usr/local/lib/python3.11/dist-packages/torch/utils/data/dataloader.py:624: UserWarning: This DataLoader will create 4 worker processes in total. Our suggested max number of worker in current system is 2, which is smaller than what this DataLoader is going to create. Please be aware that excessive worker creation might get DataLoader running slow or even freeze, lower the worker number to avoid potential slowness/freeze if necessary.\n",
            "  warnings.warn(\n"
          ]
        },
        {
          "output_type": "stream",
          "name": "stdout",
          "text": [
            "              precision    recall  f1-score   support\n",
            "\n",
            "         neg       0.84      0.90      0.87      2500\n",
            "         pos       0.89      0.83      0.86      2500\n",
            "\n",
            "    accuracy                           0.87      5000\n",
            "   macro avg       0.87      0.87      0.87      5000\n",
            "weighted avg       0.87      0.87      0.87      5000\n",
            "\n",
            "Testing GRU, emb=100, hid=128, drop=0.3\n"
          ]
        },
        {
          "output_type": "stream",
          "name": "stderr",
          "text": [
            "/usr/local/lib/python3.11/dist-packages/torch/utils/data/dataloader.py:624: UserWarning: This DataLoader will create 4 worker processes in total. Our suggested max number of worker in current system is 2, which is smaller than what this DataLoader is going to create. Please be aware that excessive worker creation might get DataLoader running slow or even freeze, lower the worker number to avoid potential slowness/freeze if necessary.\n",
            "  warnings.warn(\n"
          ]
        },
        {
          "output_type": "stream",
          "name": "stdout",
          "text": [
            "              precision    recall  f1-score   support\n",
            "\n",
            "         neg       0.89      0.87      0.88      2500\n",
            "         pos       0.87      0.89      0.88      2500\n",
            "\n",
            "    accuracy                           0.88      5000\n",
            "   macro avg       0.88      0.88      0.88      5000\n",
            "weighted avg       0.88      0.88      0.88      5000\n",
            "\n",
            "Testing GRU, emb=100, hid=128, drop=0.5\n"
          ]
        },
        {
          "output_type": "stream",
          "name": "stderr",
          "text": [
            "/usr/local/lib/python3.11/dist-packages/torch/utils/data/dataloader.py:624: UserWarning: This DataLoader will create 4 worker processes in total. Our suggested max number of worker in current system is 2, which is smaller than what this DataLoader is going to create. Please be aware that excessive worker creation might get DataLoader running slow or even freeze, lower the worker number to avoid potential slowness/freeze if necessary.\n",
            "  warnings.warn(\n"
          ]
        },
        {
          "output_type": "stream",
          "name": "stdout",
          "text": [
            "              precision    recall  f1-score   support\n",
            "\n",
            "         neg       0.91      0.75      0.82      2500\n",
            "         pos       0.79      0.93      0.85      2500\n",
            "\n",
            "    accuracy                           0.84      5000\n",
            "   macro avg       0.85      0.84      0.84      5000\n",
            "weighted avg       0.85      0.84      0.84      5000\n",
            "\n",
            "Testing GRU, emb=100, hid=256, drop=0.3\n"
          ]
        },
        {
          "output_type": "stream",
          "name": "stderr",
          "text": [
            "/usr/local/lib/python3.11/dist-packages/torch/utils/data/dataloader.py:624: UserWarning: This DataLoader will create 4 worker processes in total. Our suggested max number of worker in current system is 2, which is smaller than what this DataLoader is going to create. Please be aware that excessive worker creation might get DataLoader running slow or even freeze, lower the worker number to avoid potential slowness/freeze if necessary.\n",
            "  warnings.warn(\n"
          ]
        },
        {
          "output_type": "stream",
          "name": "stdout",
          "text": [
            "              precision    recall  f1-score   support\n",
            "\n",
            "         neg       0.91      0.86      0.88      2500\n",
            "         pos       0.87      0.91      0.89      2500\n",
            "\n",
            "    accuracy                           0.89      5000\n",
            "   macro avg       0.89      0.89      0.89      5000\n",
            "weighted avg       0.89      0.89      0.89      5000\n",
            "\n",
            "Testing GRU, emb=100, hid=256, drop=0.5\n"
          ]
        },
        {
          "output_type": "stream",
          "name": "stderr",
          "text": [
            "/usr/local/lib/python3.11/dist-packages/torch/utils/data/dataloader.py:624: UserWarning: This DataLoader will create 4 worker processes in total. Our suggested max number of worker in current system is 2, which is smaller than what this DataLoader is going to create. Please be aware that excessive worker creation might get DataLoader running slow or even freeze, lower the worker number to avoid potential slowness/freeze if necessary.\n",
            "  warnings.warn(\n"
          ]
        },
        {
          "output_type": "stream",
          "name": "stdout",
          "text": [
            "              precision    recall  f1-score   support\n",
            "\n",
            "         neg       0.82      0.91      0.86      2500\n",
            "         pos       0.90      0.80      0.85      2500\n",
            "\n",
            "    accuracy                           0.85      5000\n",
            "   macro avg       0.86      0.85      0.85      5000\n",
            "weighted avg       0.86      0.85      0.85      5000\n",
            "\n",
            "Best params: ('GRU', 100, 256, 0.3)\n"
          ]
        }
      ]
    },
    {
      "cell_type": "code",
      "source": [
        "rnn_type, e, h, d = best_params\n",
        "model = RNNClassifier(VOCAB_SIZE, e, h, 2, n_layers=1,\n",
        "                      rnn_type=rnn_type, dropout=d).to(device)\n",
        "opt = optim.Adam(model.parameters(), lr=1e-3)\n",
        "crit = nn.CrossEntropyLoss()\n",
        "\n",
        "for epoch in range(5):\n",
        "    tr_loss = train_epoch(model, train_loader, opt, crit)\n",
        "    val_loss, val_rep, _ = eval_model(model, val_loader, crit)\n",
        "    print(f\"Epoch {epoch+1}: Train {tr_loss:.3f}, Val {val_loss:.3f}\\n\" + val_rep)\n",
        "\n",
        "test_loss, test_rep, test_cm = eval_model(model, test_loader, crit)\n",
        "print(\"Test report:\\n\", test_rep)\n",
        "print(\"Confusion Matrix:\\n\", test_cm)"
      ],
      "metadata": {
        "colab": {
          "base_uri": "https://localhost:8080/"
        },
        "id": "S9Il0ZoSZtwj",
        "outputId": "ce2d1d25-9475-4145-8cbf-d119fd47358d"
      },
      "execution_count": 13,
      "outputs": [
        {
          "output_type": "stream",
          "name": "stderr",
          "text": [
            "/usr/local/lib/python3.11/dist-packages/torch/utils/data/dataloader.py:624: UserWarning: This DataLoader will create 4 worker processes in total. Our suggested max number of worker in current system is 2, which is smaller than what this DataLoader is going to create. Please be aware that excessive worker creation might get DataLoader running slow or even freeze, lower the worker number to avoid potential slowness/freeze if necessary.\n",
            "  warnings.warn(\n"
          ]
        },
        {
          "output_type": "stream",
          "name": "stdout",
          "text": [
            "Epoch 1: Train 0.562, Val 0.359\n",
            "              precision    recall  f1-score   support\n",
            "\n",
            "         neg       0.85      0.84      0.84      2500\n",
            "         pos       0.84      0.85      0.85      2500\n",
            "\n",
            "    accuracy                           0.85      5000\n",
            "   macro avg       0.85      0.85      0.85      5000\n",
            "weighted avg       0.85      0.85      0.85      5000\n",
            "\n"
          ]
        },
        {
          "output_type": "stream",
          "name": "stderr",
          "text": [
            "/usr/local/lib/python3.11/dist-packages/torch/utils/data/dataloader.py:624: UserWarning: This DataLoader will create 4 worker processes in total. Our suggested max number of worker in current system is 2, which is smaller than what this DataLoader is going to create. Please be aware that excessive worker creation might get DataLoader running slow or even freeze, lower the worker number to avoid potential slowness/freeze if necessary.\n",
            "  warnings.warn(\n"
          ]
        },
        {
          "output_type": "stream",
          "name": "stdout",
          "text": [
            "Epoch 2: Train 0.300, Val 0.279\n",
            "              precision    recall  f1-score   support\n",
            "\n",
            "         neg       0.85      0.92      0.88      2500\n",
            "         pos       0.91      0.84      0.88      2500\n",
            "\n",
            "    accuracy                           0.88      5000\n",
            "   macro avg       0.88      0.88      0.88      5000\n",
            "weighted avg       0.88      0.88      0.88      5000\n",
            "\n"
          ]
        },
        {
          "output_type": "stream",
          "name": "stderr",
          "text": [
            "/usr/local/lib/python3.11/dist-packages/torch/utils/data/dataloader.py:624: UserWarning: This DataLoader will create 4 worker processes in total. Our suggested max number of worker in current system is 2, which is smaller than what this DataLoader is going to create. Please be aware that excessive worker creation might get DataLoader running slow or even freeze, lower the worker number to avoid potential slowness/freeze if necessary.\n",
            "  warnings.warn(\n"
          ]
        },
        {
          "output_type": "stream",
          "name": "stdout",
          "text": [
            "Epoch 3: Train 0.232, Val 0.249\n",
            "              precision    recall  f1-score   support\n",
            "\n",
            "         neg       0.89      0.90      0.90      2500\n",
            "         pos       0.90      0.89      0.89      2500\n",
            "\n",
            "    accuracy                           0.89      5000\n",
            "   macro avg       0.89      0.89      0.89      5000\n",
            "weighted avg       0.89      0.89      0.89      5000\n",
            "\n"
          ]
        },
        {
          "output_type": "stream",
          "name": "stderr",
          "text": [
            "/usr/local/lib/python3.11/dist-packages/torch/utils/data/dataloader.py:624: UserWarning: This DataLoader will create 4 worker processes in total. Our suggested max number of worker in current system is 2, which is smaller than what this DataLoader is going to create. Please be aware that excessive worker creation might get DataLoader running slow or even freeze, lower the worker number to avoid potential slowness/freeze if necessary.\n",
            "  warnings.warn(\n"
          ]
        },
        {
          "output_type": "stream",
          "name": "stdout",
          "text": [
            "Epoch 4: Train 0.186, Val 0.251\n",
            "              precision    recall  f1-score   support\n",
            "\n",
            "         neg       0.90      0.90      0.90      2500\n",
            "         pos       0.90      0.90      0.90      2500\n",
            "\n",
            "    accuracy                           0.90      5000\n",
            "   macro avg       0.90      0.90      0.90      5000\n",
            "weighted avg       0.90      0.90      0.90      5000\n",
            "\n"
          ]
        },
        {
          "output_type": "stream",
          "name": "stderr",
          "text": [
            "/usr/local/lib/python3.11/dist-packages/torch/utils/data/dataloader.py:624: UserWarning: This DataLoader will create 4 worker processes in total. Our suggested max number of worker in current system is 2, which is smaller than what this DataLoader is going to create. Please be aware that excessive worker creation might get DataLoader running slow or even freeze, lower the worker number to avoid potential slowness/freeze if necessary.\n",
            "  warnings.warn(\n"
          ]
        },
        {
          "output_type": "stream",
          "name": "stdout",
          "text": [
            "Epoch 5: Train 0.138, Val 0.267\n",
            "              precision    recall  f1-score   support\n",
            "\n",
            "         neg       0.91      0.88      0.89      2500\n",
            "         pos       0.89      0.91      0.90      2500\n",
            "\n",
            "    accuracy                           0.90      5000\n",
            "   macro avg       0.90      0.90      0.90      5000\n",
            "weighted avg       0.90      0.90      0.90      5000\n",
            "\n"
          ]
        },
        {
          "output_type": "stream",
          "name": "stderr",
          "text": [
            "/usr/local/lib/python3.11/dist-packages/torch/utils/data/dataloader.py:624: UserWarning: This DataLoader will create 4 worker processes in total. Our suggested max number of worker in current system is 2, which is smaller than what this DataLoader is going to create. Please be aware that excessive worker creation might get DataLoader running slow or even freeze, lower the worker number to avoid potential slowness/freeze if necessary.\n",
            "  warnings.warn(\n"
          ]
        },
        {
          "output_type": "stream",
          "name": "stdout",
          "text": [
            "Test report:\n",
            "               precision    recall  f1-score   support\n",
            "\n",
            "         neg       0.90      0.90      0.90      2500\n",
            "         pos       0.90      0.90      0.90      2500\n",
            "\n",
            "    accuracy                           0.90      5000\n",
            "   macro avg       0.90      0.90      0.90      5000\n",
            "weighted avg       0.90      0.90      0.90      5000\n",
            "\n",
            "Confusion Matrix:\n",
            " [[2239  261]\n",
            " [ 243 2257]]\n"
          ]
        }
      ]
    },
    {
      "cell_type": "code",
      "source": [
        "import matplotlib.pyplot as plt\n",
        "fig, ax = plt.subplots(figsize=(5,5))\n",
        "cax = ax.matshow(test_cm)\n",
        "fig.colorbar(cax)\n",
        "for (i, j), val in np.ndenumerate(test_cm):\n",
        "    ax.text(j, i, val, ha='center', va='center')\n",
        "ax.set_xticks([0,1]); ax.set_xticklabels(['neg','pos'])\n",
        "ax.set_yticks([0,1]); ax.set_yticklabels(['neg','pos'])\n",
        "ax.set_xlabel('Predicted'); ax.set_ylabel('Actual')\n",
        "ax.set_title('Confusion Matrix (Reused)')\n",
        "plt.show()"
      ],
      "metadata": {
        "colab": {
          "base_uri": "https://localhost:8080/",
          "height": 437
        },
        "id": "IJFApCcyjW5y",
        "outputId": "aa685d1a-a4d3-4198-a73e-429f385ccff5"
      },
      "execution_count": 20,
      "outputs": [
        {
          "output_type": "display_data",
          "data": {
            "text/plain": [
              "<Figure size 500x500 with 2 Axes>"
            ],
            "image/png": "[encoded data removed]"
          },
          "metadata": {}
        }
      ]
    }
  ]
}